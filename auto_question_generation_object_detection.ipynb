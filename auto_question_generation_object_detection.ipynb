{
 "cells": [
  {
   "cell_type": "markdown",
   "metadata": {},
   "source": [
    "# Imports"
   ]
  },
  {
   "cell_type": "code",
   "execution_count": 3,
   "metadata": {
    "scrolled": true
   },
   "outputs": [],
   "source": [
    "import numpy as np\n",
    "import os\n",
    "import six.moves.urllib as urllib\n",
    "import sys\n",
    "import tarfile\n",
    "import tensorflow as tf\n",
    "import zipfile\n",
    "\n",
    "from collections import defaultdict\n",
    "from io import StringIO\n",
    "from matplotlib import pyplot as plt\n",
    "from PIL import Image\n",
    "\n",
    "# This is needed since the notebook is stored in the object_detection folder.\n",
    "sys.path.append(\"..\")\n",
    "from object_detection.utils import ops as utils_ops\n",
    "\n",
    "if tf.__version__ < '1.4.0':\n",
    "  raise ImportError('Please upgrade your tensorflow installation to v1.4.* or later!')\n",
    "\n",
    "\n",
    "## Env setup\n",
    "\n",
    "# This is needed to display the images.\n",
    "%matplotlib inline"
   ]
  },
  {
   "cell_type": "markdown",
   "metadata": {},
   "source": [
    "## Object detection 시각화 모듈 import "
   ]
  },
  {
   "cell_type": "code",
   "execution_count": 4,
   "metadata": {
    "scrolled": true
   },
   "outputs": [],
   "source": [
    "from utils import label_map_util\n",
    "\n",
    "from utils import visualization_utils as vis_util"
   ]
  },
  {
   "cell_type": "markdown",
   "metadata": {},
   "source": [
    "# Model 준비"
   ]
  },
  {
   "cell_type": "code",
   "execution_count": 5,
   "metadata": {},
   "outputs": [],
   "source": [
    "# What model to download.\n",
    "MODEL_NAME = 'faster_rcnn_inception_resnet_v2_atrous_coco_2018_01_28'\n",
    "MODEL_FILE = MODEL_NAME + '.tar.gz'\n",
    "DOWNLOAD_BASE = 'http://download.tensorflow.org/models/object_detection/'\n",
    "\n",
    "# Path to frozen detection graph. This is the actual model that is used for the object detection.\n",
    "PATH_TO_CKPT = MODEL_NAME + '/frozen_inference_graph.pb'\n",
    "\n",
    "# List of the strings that is used to add correct label for each box.\n",
    "PATH_TO_LABELS = os.path.join('data', 'mscoco_label_map.pbtxt')\n",
    "\n",
    "NUM_CLASSES = 90"
   ]
  },
  {
   "cell_type": "markdown",
   "metadata": {},
   "source": [
    "## 모델 loading"
   ]
  },
  {
   "cell_type": "code",
   "execution_count": 6,
   "metadata": {},
   "outputs": [],
   "source": [
    "detection_graph = tf.Graph()\n",
    "with detection_graph.as_default():\n",
    "  od_graph_def = tf.GraphDef()\n",
    "  with tf.gfile.GFile(PATH_TO_CKPT, 'rb') as fid:\n",
    "    serialized_graph = fid.read()\n",
    "    od_graph_def.ParseFromString(serialized_graph)\n",
    "    tf.import_graph_def(od_graph_def, name='')"
   ]
  },
  {
   "cell_type": "code",
   "execution_count": 7,
   "metadata": {},
   "outputs": [],
   "source": [
    "label_map = label_map_util.load_labelmap(PATH_TO_LABELS)\n",
    "categories = label_map_util.convert_label_map_to_categories(label_map, max_num_classes=NUM_CLASSES, use_display_name=True)\n",
    "category_index = label_map_util.create_category_index(categories)"
   ]
  },
  {
   "cell_type": "code",
   "execution_count": 8,
   "metadata": {},
   "outputs": [],
   "source": [
    "def load_image_into_numpy_array(image):\n",
    "  (im_width, im_height) = image.size\n",
    "  return np.array(image.getdata()).reshape(\n",
    "      (im_height, im_width, 3)).astype(np.uint8)"
   ]
  },
  {
   "cell_type": "markdown",
   "metadata": {},
   "source": [
    "# Detection 함수 정의"
   ]
  },
  {
   "cell_type": "code",
   "execution_count": 9,
   "metadata": {},
   "outputs": [],
   "source": [
    "# For the sake of simplicity we will use only 2 images:\n",
    "# image1.jpg\n",
    "# image2.jpg\n",
    "# If you want to test the code with your images, just add path to the images to the TEST_IMAGE_PATHS.\n",
    "#PATH_TO_TEST_IMAGES_DIR = 'test_images'\n",
    "#TEST_IMAGE_PATHS = [ os.path.join(PATH_TO_TEST_IMAGES_DIR, 'image{}.jpg'.format(i)) for i in range(1, 3) ]\n",
    "import glob\n",
    "\n",
    "TEST_IMAGE_PATHS=glob.glob('./images/*.jpg')\n",
    "#os.listdir('/var/www/html/img/quiz_num')\n",
    "# Size, in inches, of the output images.\n",
    "IMAGE_SIZE = (12, 8)"
   ]
  },
  {
   "cell_type": "code",
   "execution_count": 10,
   "metadata": {},
   "outputs": [],
   "source": [
    "def run_inference_for_single_image(image, graph):\n",
    "  with graph.as_default():\n",
    "    with tf.Session() as sess:\n",
    "      # Get handles to input and output tensors\n",
    "      ops = tf.get_default_graph().get_operations()\n",
    "      all_tensor_names = {output.name for op in ops for output in op.outputs}\n",
    "      tensor_dict = {}\n",
    "      for key in [\n",
    "          'num_detections', 'detection_boxes', 'detection_scores',\n",
    "          'detection_classes', 'detection_masks'\n",
    "      ]:\n",
    "        tensor_name = key + ':0'\n",
    "        if tensor_name in all_tensor_names:\n",
    "          tensor_dict[key] = tf.get_default_graph().get_tensor_by_name(\n",
    "              tensor_name)\n",
    "      if 'detection_masks' in tensor_dict:\n",
    "        # The following processing is only for single image\n",
    "        detection_boxes = tf.squeeze(tensor_dict['detection_boxes'], [0])\n",
    "        detection_masks = tf.squeeze(tensor_dict['detection_masks'], [0])\n",
    "        # Reframe is required to translate mask from box coordinates to image coordinates and fit the image size.\n",
    "        real_num_detection = tf.cast(tensor_dict['num_detections'][0], tf.int32)\n",
    "        detection_boxes = tf.slice(detection_boxes, [0, 0], [real_num_detection, -1])\n",
    "        detection_masks = tf.slice(detection_masks, [0, 0, 0], [real_num_detection, -1, -1])\n",
    "        detection_masks_reframed = utils_ops.reframe_box_masks_to_image_masks(\n",
    "            detection_masks, detection_boxes, image.shape[0], image.shape[1])\n",
    "        detection_masks_reframed = tf.cast(\n",
    "            tf.greater(detection_masks_reframed, 0.5), tf.uint8)\n",
    "        # Follow the convention by adding back the batch dimension\n",
    "        tensor_dict['detection_masks'] = tf.expand_dims(\n",
    "            detection_masks_reframed, 0)\n",
    "      image_tensor = tf.get_default_graph().get_tensor_by_name('image_tensor:0')\n",
    "\n",
    "      # Run inference\n",
    "      output_dict = sess.run(tensor_dict,\n",
    "                             feed_dict={image_tensor: np.expand_dims(image, 0)})\n",
    "\n",
    "      # all outputs are float32 numpy arrays, so convert types as appropriate\n",
    "      output_dict['num_detections'] = int(output_dict['num_detections'][0])\n",
    "      output_dict['detection_classes'] = output_dict[\n",
    "          'detection_classes'][0].astype(np.uint8)\n",
    "      output_dict['detection_boxes'] = output_dict['detection_boxes'][0]\n",
    "      output_dict['detection_scores'] = output_dict['detection_scores'][0]\n",
    "      if 'detection_masks' in output_dict:\n",
    "        output_dict['detection_masks'] = output_dict['detection_masks'][0]\n",
    "  return output_dict"
   ]
  },
  {
   "cell_type": "code",
   "execution_count": 11,
   "metadata": {},
   "outputs": [],
   "source": [
    "import json\n",
    "import random\n",
    "import collections\n",
    "import pyjosa"
   ]
  },
  {
   "cell_type": "code",
   "execution_count": 12,
   "metadata": {},
   "outputs": [],
   "source": [
    "import pandas\n",
    "xls = pandas.ExcelFile('/home/ktai19/Downloads/engtokor.xlsx')\n",
    "df = xls.parse(xls.sheet_names[0])\n",
    "things=df.korean.values.tolist()\n",
    "#print df.to_dict()"
   ]
  },
  {
   "cell_type": "code",
   "execution_count": 13,
   "metadata": {},
   "outputs": [],
   "source": [
    "def kind(class_name):\n",
    "    if df[df.korean==class_name].kind.values[0]==1 :return \"명\"\n",
    "    elif df[df.korean==class_name].kind.values[0]==2 :return \"마리\"\n",
    "    elif df[df.korean==class_name].kind.values[0]==3 :return \"개\""
   ]
  },
  {
   "cell_type": "code",
   "execution_count": 14,
   "metadata": {},
   "outputs": [],
   "source": [
    "# 한 object가 7번 이상 등장하면 고급으로 분류\n",
    "def det_level_by_n(classname):\n",
    "    if cnt[classname]>=7:return 3\n",
    "    elif cnt[classname]<7 and cnt[classname]>=4:return 2\n",
    "    else: return 1\n",
    "\n",
    "#한 사진에서 detect된 object가 3종류 이상이면 고급\n",
    "def det_level_by_nkind(objects):\n",
    "    if len(objects)>=3:return 3\n",
    "    elif len(objects)==2:return 2\n",
    "    else: return 1\n"
   ]
  },
  {
   "cell_type": "code",
   "execution_count": 15,
   "metadata": {},
   "outputs": [],
   "source": [
    "import pickle\n",
    "def save_obj(obj, name ):\n",
    "    with open('./detection_result/'+name + '.pkl', 'wb') as f:\n",
    "        pickle.dump(obj, f, pickle.HIGHEST_PROTOCOL)\n",
    "\n",
    "def load_obj(name ):\n",
    "    with open('./detection_result/'+name + '.pkl', 'rb') as f:\n",
    "        return pickle.load(f)"
   ]
  },
  {
   "cell_type": "code",
   "execution_count": null,
   "metadata": {},
   "outputs": [],
   "source": [
    "with open('./data.json','r') as file:\n",
    "    datastore=json.load(file)\n",
    "previous_files=list(set([quest['FileName'] for quest in datastore]))"
   ]
  },
  {
   "cell_type": "markdown",
   "metadata": {},
   "source": [
    "# 사진 분석하고 분석결과 저장하기"
   ]
  },
  {
   "cell_type": "code",
   "execution_count": null,
   "metadata": {},
   "outputs": [
    {
     "name": "stdout",
     "output_type": "stream",
     "text": [
      "12.jpg\n",
      "11.jpg\n",
      "17.jpg\n"
     ]
    }
   ],
   "source": [
    "for image_path in TEST_IMAGE_PATHS:\n",
    "    FileName=os.path.basename(image_path)\n",
    "    print(FileName)\n",
    "    if FileName in previous_files:\n",
    "        continue\n",
    "    #image_path=\"/var/www/html/img/quiz_num/22.jpg\"  \n",
    "    image = Image.open(image_path)\n",
    "    # the array based representation of the image will be used later in order to prepare the\n",
    "    # result image with boxes and labels on it.\n",
    "    image_np = load_image_into_numpy_array(image)\n",
    "    # Expand dimensions since the model expects images to have shape: [1, None, None, 3]\n",
    "    image_np_expanded = np.expand_dims(image_np, axis=0)\n",
    "    \n",
    "    # Actual detection.\n",
    "    output_dict = run_inference_for_single_image(image_np, detection_graph)\n",
    "    # Visualization of the results of a detection.\n",
    "#    output_dict['FileName']=os.path.basename(image_path)\n",
    "    classes=output_dict.get('detection_classes')\n",
    "    boxes=output_dict.get('detection_boxes')\n",
    "    scores=output_dict.get('detection_scores')\n",
    "    \n",
    "    vis_util.visualize_boxes_and_labels_on_image_array(\n",
    "      image_np,\n",
    "    #ymin , xmin, ymax, xmax\n",
    "      boxes,\n",
    "      classes,\n",
    "      scores,\n",
    "      category_index,\n",
    "      instance_masks=output_dict.get('detection_masks'),\n",
    "      use_normalized_coordinates=True,\n",
    "      line_thickness=8)\n",
    "    plt.figure(figsize=IMAGE_SIZE)\n",
    "    plt.imshow(image_np)\n",
    "    \n",
    "    save_obj(output_dict,FileName)\n",
    "\n",
    "    "
   ]
  },
  {
   "cell_type": "markdown",
   "metadata": {},
   "source": [
    "# detection result를 이용해 문제만들기"
   ]
  },
  {
   "cell_type": "code",
   "execution_count": null,
   "metadata": {},
   "outputs": [],
   "source": [
    "data=[]\n",
    "for file in os.listdir('./detection_result/'):\n",
    "    FileName=file.strip('.pkl')\n",
    "    if FileName in previous_files:\n",
    "        continue\n",
    "    result=load_obj(FileName)\n",
    "    classes=result.get('detection_classes')\n",
    "    boxes=result.get('detection_boxes')\n",
    "    scores=result.get('detection_scores')\n",
    "    objects=[]\n",
    "    locations=[]\n",
    "    for i in range(min(20, boxes.shape[0])):\n",
    "        if scores[i]>.5:\n",
    "            class_name = category_index[classes[i]]['name']\n",
    "            class_name=df[df.english==class_name].korean.values[0]\n",
    "            objects.append(class_name)\n",
    "            locations.append((boxes[i][1]+boxes[i][3],boxes[i][3]))\n",
    "\n",
    "    cnt=collections.Counter(objects)\n",
    "    class_name=cnt.most_common()[0][0]\n",
    "    print(FileName)\n",
    "\n",
    "    unique_obj=list(set(objects))\n",
    "    \n",
    "    #1. 사진 속 최빈 물체 몇개인지에 관한 문제\n",
    "    def q1():\n",
    "        ans= str(cnt[class_name])+kind(class_name) #5명\n",
    "        bias=random.sample([-2,-1,1,2],2)\n",
    "        cand1= str(cnt[class_name]+bias[0])+kind(class_name) # 3명~4명\n",
    "        cand2= str(cnt[class_name]+bias[1])+kind(class_name) #6~7명\n",
    "        answers=[ans,cand1,cand2]\n",
    "        random.shuffle(answers)\n",
    "        data.append({\n",
    "            \"Answer\":str(answers.index(ans)+1)+\"번,\"+ans,\n",
    "            \"Question\":pyjosa.replace_josa(\"사진 속 {}(은)는 몇 {}인가요?\".format(class_name,kind(class_name))),\n",
    "            \"FileName\":FileName,\n",
    "            \"Level\":det_level_by_n(class_name),\n",
    "            \"ans1\":answers[0],\n",
    "            \"ans2\":answers[1],\n",
    "            \"ans3\":answers[2]\n",
    "        })\n",
    "    q1()\n",
    "\n",
    "    #2. 사진 속 가장 많은 것은 무엇?\n",
    "    def q2():\n",
    "        if len(unique_obj)>=3:\n",
    "            ans= class_name # 우산\n",
    "            candidates=unique_obj[:]\n",
    "            candidates.remove(ans)\n",
    "            cand1,cand2=random.sample(candidates,2)\n",
    "            answers=[ans,cand1,cand2]\n",
    "            random.shuffle(answers)\n",
    "            data.append({\n",
    "                \"Answer\":str(answers.index(ans)+1)+\"번,\"+ans,\n",
    "                \"Question\":\"사진 속에서 가장 많이 등장한 것은 어떤 것인가요?\",\n",
    "                \"FileName\":FileName,\n",
    "                \"Level\":1,\n",
    "                \"ans1\":answers[0],\n",
    "                \"ans2\":answers[1],\n",
    "                \"ans3\":answers[2]\n",
    "            })\n",
    "    q2()\n",
    "            \n",
    "    #3. 사진 속 \" \"(동물,물체)는 무엇인가요?\n",
    "    def q3():\n",
    "        if len(unique_obj)==1:\n",
    "            ans=class_name\n",
    "            cand1,cand2=random.sample(things,2)\n",
    "            answers=[ans,cand1,cand2]\n",
    "            random.shuffle(answers)\n",
    "            data.append({\n",
    "                \"Answer\":str(answers.index(ans)+1)+\"번,\"+ans,\n",
    "                \"Question\":\"사진에 보이는 것은 무엇인가요?\",\n",
    "                \"FileName\":FileName,\n",
    "                \"Level\":1,\n",
    "                \"ans1\":answers[0],\n",
    "                \"ans2\":answers[1],\n",
    "                \"ans3\":answers[2]\n",
    "            })\n",
    "    q3()\n",
    "\n",
    "    #4. 다음 중 사진에 없었던 것은 무엇인가요?\n",
    "    def q4():\n",
    "        if len(unique_obj)>=2:\n",
    "            ans=random.choice([el for el in things if el not in unique_obj])# 우산\n",
    "            cand1,cand2=random.sample(unique_obj,2)\n",
    "            answers=[ans,cand1,cand2]\n",
    "            random.shuffle(answers)\n",
    "            data.append({\n",
    "                \"Answer\":str(answers.index(ans)+1)+\"번,\"+ans,\n",
    "                \"Question\":\"다음 중 사진에 없었던 것은 무엇인가요?\",\n",
    "                \"FileName\":FileName,\n",
    "                \"Level\":det_level_by_nkind(objects),\n",
    "                \"ans1\":answers[0],\n",
    "                \"ans2\":answers[1],\n",
    "                \"ans3\":answers[2]\n",
    "            })\n",
    "    q4()\n",
    "    #5. 위치 물어보기\n",
    "    def q5():\n",
    "        if len(unique_obj)>=3:\n",
    "            \n",
    "            def get_max_loc(locations): #중점과 오른쪽 점이 모두 다른 object보다 오른쪽에 있는 물체가 있을때만 문제를 출제하자\n",
    "                #if one of element has max sum and max right: return that el's idx'\n",
    "                loc_sum=[el[0] for el in locations]\n",
    "                l1=loc_sum.index(max(loc_sum))\n",
    "\n",
    "                loc_right=[el[1] for el in locations]\n",
    "                l2=loc_right.index(max(loc_right))\n",
    "                if l1==l2:\n",
    "                    return l1\n",
    "                else:\n",
    "                    return None\n",
    "\n",
    "            maxidx=get_max_loc(locations)\n",
    "            if maxidx:\n",
    "                ans=objects[maxidx]#random.choice([el for el in things if el not in objects])# 우산\n",
    "                candidates=objects[:maxidx]+objects[maxidx+1:]\n",
    "                cand1,cand2=random.sample(set(list(candidates)),2)\n",
    "                answers=[ans,cand1,cand2]\n",
    "                random.shuffle(answers)\n",
    "                data.append({\n",
    "                    \"Answer\":str(answers.index(ans)+1)+\"번,\"+ans,\n",
    "                    \"Question\":\"다음 중 사진에서 가장 오른쪽에 있던 물체는 무엇인가요?\",\n",
    "                    \"FileName\":FileName,\n",
    "                    \"Level\":det_level_by_nkind(objects),\n",
    "                    \"ans1\":answers[0],\n",
    "                    \"ans2\":answers[1],\n",
    "                    \"ans3\":answers[2]\n",
    "                })\n",
    "    q5()"
   ]
  },
  {
   "cell_type": "code",
   "execution_count": null,
   "metadata": {},
   "outputs": [],
   "source": [
    "def append_json(data):\n",
    "    with open('./data.json', 'r') as file:  \n",
    "        prev=json.load(file)\n",
    "        if data not in prev:\n",
    "            prev.extend(data)\n",
    "        else:\n",
    "            print(\"skip\")\n",
    "    with open('./data.json', 'w') as outfile:  \n",
    "        json.dump(prev, outfile)"
   ]
  },
  {
   "cell_type": "code",
   "execution_count": null,
   "metadata": {},
   "outputs": [],
   "source": [
    "if os.path.exists('./data.json'):\n",
    "    append_json(data)\n",
    "else:\n",
    "    with open('./data.json', 'w') as outfile:  \n",
    "        json.dump(data, outfile)"
   ]
  },
  {
   "cell_type": "markdown",
   "metadata": {},
   "source": [
    "# 다중사진 문제 만들기"
   ]
  },
  {
   "cell_type": "code",
   "execution_count": null,
   "metadata": {},
   "outputs": [],
   "source": [
    "import itertools"
   ]
  },
  {
   "cell_type": "code",
   "execution_count": null,
   "metadata": {},
   "outputs": [],
   "source": [
    "data=[]\n",
    "\n",
    "comb=(itertools.combinations(TEST_IMAGE_PATHS,3))\n",
    "comb=[list(map(os.path.basename,c)) for c in comb]\n",
    "\n",
    "test=[','.join(el) for el in comb]\n",
    "\n",
    "set_problems=[el for formated,el in zip(test,comb) if formated not in previous_files]"
   ]
  },
  {
   "cell_type": "code",
   "execution_count": null,
   "metadata": {},
   "outputs": [],
   "source": [
    "set_problems"
   ]
  },
  {
   "cell_type": "code",
   "execution_count": null,
   "metadata": {},
   "outputs": [],
   "source": [
    "# for file in os.listdir('./detection_result/'):\n",
    "#     FileName=file.strip('.pkl')\n",
    "for image_set in set_problems:\n",
    "    cumulated_objs=[]\n",
    "    for FileName in image_set:\n",
    "        result=load_obj(FileName)\n",
    "        classes=result.get('detection_classes')\n",
    "        boxes=result.get('detection_boxes')\n",
    "        scores=result.get('detection_scores')\n",
    "        objects=[]\n",
    "        locations=[]\n",
    "\n",
    "        objects=[]\n",
    "        for i in range(min(20, boxes.shape[0])):\n",
    "            if scores[i]>.6:\n",
    "                class_name = category_index[classes[i]]['name']\n",
    "                class_name=df[df.english==class_name].korean.values[0]\n",
    "                objects.append(class_name)\n",
    "        \n",
    "        cumulated_objs.extend(objects)\n",
    "    fileset=','.join(map(os.path.basename,image_set))\n",
    "    if fileset in previous_files:\n",
    "        print(fileset,\" is already in problem set\")\n",
    "        continue\n",
    "    #6. 보였던(2~3장) 사진들 중 없었던 것은?\n",
    "    def q6():\n",
    "        ans=random.choice([el for el in things if el not in cumulated_objs])# object에 계속 append 하자.\n",
    "        try:\n",
    "            cand1,cand2=random.sample(list(set(cumulated_objs)),2)\n",
    "        except:\n",
    "            return None\n",
    "        answers=[ans,cand1,cand2]\n",
    "        random.shuffle(answers)\n",
    "        data.append({\n",
    "            \"Answer\":str(answers.index(ans)+1)+\"번,\"+ans,\n",
    "            \"Question\":\"보였던 사진들 중 없었던 것은 무엇인가요?\",\n",
    "            \"FileName\":fileset,\n",
    "            \"Level\":det_level_by_nkind(cumulated_objs),\n",
    "            \"ans1\":answers[0],\n",
    "            \"ans2\":answers[1],\n",
    "            \"ans3\":answers[2]\n",
    "        })\n",
    "    q6()\n",
    "    \n",
    "    #7.보였던(2~3장) 사진들 중에서 무엇이 가장 많이 등장했나요?\n",
    "    #class_name=random.choice(objects)\n",
    "    def q7():\n",
    "        cnt=collections.Counter(cumulated_objs)\n",
    "        if cnt.most_common()[0][1]==cnt.most_common()[1][1]:\n",
    "            print('no one maximum')\n",
    "            return 0\n",
    "        else:\n",
    "            class_name=cnt.most_common()[0][0]\n",
    "            ans= class_name # 우산\n",
    "            #kind=df[df.korean==class_name].kind.values[0]\n",
    "            if len(cnt.keys())>=3:\n",
    "                cand1=cnt.most_common()[1][0]\n",
    "                cand2=cnt.most_common()[2][0]\n",
    "            else:\n",
    "                return None\n",
    "            answers=[ans,cand1,cand2]\n",
    "            random.shuffle(answers)\n",
    "            data.append({\n",
    "                \"Answer\":str(answers.index(ans)+1)+\"번,\"+ans,\n",
    "                \"Question\":\"사진 속에서 가장 많이 등장한 것은 어떤 것인가요?\",\n",
    "                \"FileName\":fileset,\n",
    "                \"Level\":1,\n",
    "                \"ans1\":answers[0],\n",
    "                \"ans2\":answers[1],\n",
    "                \"ans3\":answers[2]\n",
    "            })\n",
    "    q7()"
   ]
  },
  {
   "cell_type": "code",
   "execution_count": null,
   "metadata": {},
   "outputs": [],
   "source": [
    "append_json(data)"
   ]
  },
  {
   "cell_type": "code",
   "execution_count": null,
   "metadata": {},
   "outputs": [],
   "source": [
    "data"
   ]
  }
 ],
 "metadata": {
  "colab": {
   "version": "0.3.2"
  },
  "kernelspec": {
   "display_name": "Python 3",
   "language": "python",
   "name": "python3"
  },
  "language_info": {
   "codemirror_mode": {
    "name": "ipython",
    "version": 3
   },
   "file_extension": ".py",
   "mimetype": "text/x-python",
   "name": "python",
   "nbconvert_exporter": "python",
   "pygments_lexer": "ipython3",
   "version": "3.6.4"
  }
 },
 "nbformat": 4,
 "nbformat_minor": 2
}
